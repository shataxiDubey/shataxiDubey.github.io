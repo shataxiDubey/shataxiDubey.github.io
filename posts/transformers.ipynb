{
 "cells": [
  {
   "cell_type": "markdown",
   "id": "7244b2c5",
   "metadata": {},
   "source": [
    "---\n",
    "title: Transformers\n",
    "jupyter: \"transformers\"\n",
    "description: \"Building transformers from scratch\"\n",
    "author: \"Shataxi Dubey\"\n",
    "date: \"2025-07-01\"\n",
    "categories: [Self attention, masked attention, multi head attention]\n",
    "format:\n",
    "    html:\n",
    "        toc: true\n",
    "---"
   ]
  },
  {
   "cell_type": "code",
   "execution_count": 1,
   "id": "d547ba56",
   "metadata": {},
   "outputs": [],
   "source": [
    "import torch\n",
    "import torch.nn as nn"
   ]
  },
  {
   "cell_type": "markdown",
   "id": "e597a757",
   "metadata": {},
   "source": [
    "![](images/tokenization_and_mead_dimension.png)"
   ]
  },
  {
   "cell_type": "markdown",
   "id": "c19388b2",
   "metadata": {},
   "source": [
    "![](images/query_key_value_matrix.png)"
   ]
  },
  {
   "cell_type": "markdown",
   "id": "3e7a3b3c",
   "metadata": {},
   "source": [
    "![](images/Value_matrix_transpose.png)"
   ]
  },
  {
   "cell_type": "markdown",
   "id": "7cb64f13",
   "metadata": {},
   "source": [
    "![](images/value_matrix_modified.png)"
   ]
  },
  {
   "cell_type": "markdown",
   "id": "f0379244",
   "metadata": {},
   "source": [
    "![](images/final_value_matrix.png)"
   ]
  },
  {
   "cell_type": "markdown",
   "id": "edd8bc21",
   "metadata": {},
   "source": [
    "Here we are building multi head attention according to transformer paper\n",
    "![](images/multihead_attention.png)"
   ]
  },
  {
   "cell_type": "code",
   "execution_count": 2,
   "id": "e434104f",
   "metadata": {},
   "outputs": [],
   "source": [
    "class SelfAttention(nn.Module):\n",
    "    def __init__(self, embed_size, heads): # why are we dividing the embed_size among heads\n",
    "        super(SelfAttention, self).__init__()\n",
    "        self.embed_size = embed_size\n",
    "        self.heads = heads\n",
    "        self.head_dim = embed_size // heads\n",
    "\n",
    "        self.W_k = nn.Linear(self.embed_size, self.embed_size) # every time the input to the query, key and value matrix will be a vector of dimension embed_size and it will brought down to head_dim\n",
    "        self.W_q = nn.Linear(self.embed_size, self.embed_size)\n",
    "        self.W_v = nn.Linear(self.embed_size, self.embed_size)\n",
    "\n",
    "        self.fc = nn.Linear(self.heads*self.head_dim, self.embed_size)\n",
    "\n",
    "        # The query, key and value have tokens and each token is of size embed_size.\n",
    "        # Suppose, there are 100 tokens in a query, each token is 512-dimensional.\n",
    "        # The embed_size is divided among heads. Suppose the number of heads is 8.\n",
    "        # The 512-dimensional token is divided among heads. Each head has 64-dimensional query\n",
    "\n",
    "        # One query has 100 tokens\n",
    "        # One token is 512-dimensional. Embed size is 512-dimensional.\n",
    "        # Each head has 64-dimensional token.\n",
    "        # (N, 100, 512) is the input taken by Linear layer W_q and then the output is reshaped into (N, 100, 8, 64)\n",
    "\n",
    "    def forward(self, query, key, value, mask):\n",
    "        N = query.shape[0]\n",
    "        query_len, key_len, value_len = query.shape[1], key.shape[1], value.shape[1] # here we find out how many tokens are present in query, key and value\n",
    "        \n",
    "        query = self.W_q(query)\n",
    "        key = self.W_k(key)\n",
    "        value = self.W_v(value)\n",
    "\n",
    "        # reshape the query, key and value such that each head has query dimension, key dimension and value dimension equal to head_dimension.\n",
    "        query = query.reshape(N, query_len, self.heads, self.head_dim)\n",
    "        key = key.reshape(N, key_len, self.heads, self.head_dim)\n",
    "        value = value.reshape(N, value_len, self.heads, self.head_dim)\n",
    "\n",
    "        # calculate attention scores QK.T \n",
    "        # Remember: While using einsum, you only need to specify the ranks of input matrices and the output matrix, the internal computation is handled accordingly.\n",
    "        attention_scores = torch.einsum('nqhd, nkhd-> nhqk', [query, key])\n",
    "\n",
    "        # the input sentences are of same length even if some sentences have fewer words.\n",
    "        # Suppose Sentence 1 has 5 words and Sentence 2 has 11 words. \n",
    "        # Padding is done in sentence 1 with 6 tokens so that sentence 1 and sentence 2 has same length\n",
    "        # In reality, the padded 6 tokens in sentence 1 are meaningless so we require a mask to tell which tokens are real and which are not.\n",
    "        # Hence for sentence 1 the mask will be [1,1,1,1,1,0,0,0,0,0,0]\n",
    "        # For sentence 2, the mask will be [1,1,1,1,1,1,1,1,1,1,1]\n",
    "        # Final mask = [[1,1,1,1,1,0,0,0,0,0,0],\n",
    "        #               [1,1,1,1,1,1,1,1,1,1,1]]\n",
    "        # As the non-real tokens add no value to sentence, computing attention scores on these non-real tokens is of no use.\n",
    "        # Hence we replace the attention scores calculated from these non-real tokens to large negative values.\n",
    "        # On applying softmax to these large negative values, the final attention weight will be zero. \n",
    "        # This satisfies our goal to not have any attention from non-real tokens.\n",
    "\n",
    "        if mask is not None:\n",
    "            attention_scores = attention_scores.masked_fill(mask == 0, -1e-20)\n",
    "\n",
    "\n",
    "        # attention weight = softmax(QK.T/sqrt(dk)) here dk is the dimension of the query which is equal to head dim \n",
    "        attention_weights = torch.softmax((attention_scores)/(self.head_dim ** 0.5), dim = 3)  \n",
    "        # dimension of attention_values : (N, heads, query_len, key_len)\n",
    "\n",
    "        # multiply attention values with value vector then reshaping to concatenate all 64-dimensional value vectors of all heads into 512-d value vector\n",
    "        out = torch.einsum('nhqk, nkhd -> nqhd', [attention_weights, value]).reshape(N, query_len, self.heads*self.head_dim)\n",
    "\n",
    "        # pass the 512-dimensional value vector through the linear layer\n",
    "        out = self.fc(out)\n",
    "\n",
    "        return out\n"
   ]
  },
  {
   "cell_type": "markdown",
   "id": "4009f451",
   "metadata": {},
   "source": [
    "Now, lets build the transformer block\n",
    "\n",
    "![](images/transformer_block.png)"
   ]
  },
  {
   "cell_type": "code",
   "execution_count": 3,
   "id": "d618d58b",
   "metadata": {},
   "outputs": [],
   "source": [
    "class TransformerBlock(nn.Module):\n",
    "    def __init__(self, embed_size, heads, dropout):\n",
    "        super(TransformerBlock, self).__init__()\n",
    "        self.attention = SelfAttention(embed_size, heads)\n",
    "        self.norm1 = nn.LayerNorm(embed_size)\n",
    "        self.norm2 = nn.LayerNorm(embed_size)\n",
    "\n",
    "        self.fc = nn.Sequential(\n",
    "            nn.Linear(embed_size, embed_size), # here forward expansion is also added in some tutorials\n",
    "            nn.ReLU(),\n",
    "            nn.Linear(embed_size, embed_size)\n",
    "        )\n",
    "        self.dropout = nn.Dropout(dropout)\n",
    "    \n",
    "    def forward(self, query, key, value, mask):\n",
    "        attention = self.attention(query, key, value, mask)\n",
    "        fc_in =  self.dropout(self.norm1(attention + query))\n",
    "        fc_out = self.fc(fc_in)\n",
    "        out = self.norm2(fc_out + fc_in)\n",
    "\n",
    "        return out\n"
   ]
  },
  {
   "cell_type": "markdown",
   "id": "923c960e",
   "metadata": {},
   "source": [
    "After building the transformer block, we build the encoder block that contains transformer block and the positional encodings and input embeddings."
   ]
  },
  {
   "cell_type": "markdown",
   "id": "5012c0f8",
   "metadata": {},
   "source": [
    "![](images/transformer_encoder_block.png)"
   ]
  },
  {
   "cell_type": "code",
   "execution_count": 4,
   "id": "c100ed50",
   "metadata": {},
   "outputs": [],
   "source": [
    "class Encoder(nn.Module):\n",
    "    def __init__(self, num_embeddings, max_len, embed_size, heads, num_layers, dropout):\n",
    "        super(Encoder, self).__init__()\n",
    "        self.embedding_layer = nn.Embedding(num_embeddings, embed_size)\n",
    "        self.positional_encoding = nn.Embedding(max_len, embed_size)\n",
    "        self.transformer_layers = nn.ModuleList(\n",
    "            [TransformerBlock(embed_size, heads, dropout) for _ in range(num_layers)]\n",
    "        )\n",
    "        self.dropout = nn.Dropout(dropout)\n",
    "\n",
    "    def forward(self, input, mask):\n",
    "        N, seq_len = input.shape\n",
    "        input_position = torch.arange(0, seq_len).expand(N, seq_len) # for every input, we store the position of the input words \n",
    "                                                                     # in the input sentence\n",
    "        \n",
    "        input_embedding = self.embedding_layer(input)\n",
    "        positional_embedding = self.positional_encoding(input_position)\n",
    "\n",
    "        combined_input = input_embedding + positional_embedding\n",
    "        out = self.dropout(combined_input)\n",
    "\n",
    "        for transformerBlock in self.transformer_layers:\n",
    "            out = transformerBlock(out, out, out, mask)\n",
    "        \n",
    "        return out"
   ]
  },
  {
   "cell_type": "markdown",
   "id": "5894f457",
   "metadata": {},
   "source": [
    "Embedding layer takes two important parameters:\n",
    "- the vocab size\n",
    "- the dimension of each token in the vocabulary.\n",
    "\n",
    "<span style=\"color: red;\"> How embedding layer encodes vector representation of the tokens. </span>\n",
    "\n",
    "Suppose the vocabulary includes 5 words ['I', 'am', 'go' , 'to', 'school']\n",
    "\n",
    "and we want the vector representation of each word of 10 dimension. The Embedding Layer is initialized as follows:\n",
    "\n",
    "embedding_layer = nn.Embedding(num_embeddings = 5, embedding_dim = 10)\n",
    "\n",
    "Now, if we want the vector representation of the sentence 'I go to school', we represent the sentence with token indices [1,3,4,5]\n",
    "\n",
    "embedding_layer([1,3,4,5]) will give the 10 dimensional vector representation of each of the tokens in the sentence 'I go to school'.\n",
    "\n",
    "<span style=\"color: red;\"> How embedding layer encodes vector representation of the position of the tokens in the sentence.</span>\n",
    "\n",
    "In the above sentence 'I go to school', token 'I' appears at position 0 in the sentence, token 'go' appears at position 1 in the sentence.\n",
    "\n",
    "Initally, the position of the tokens is [0,1,2,3].\n",
    "\n",
    "The embedding layer takes [0,1,2,3] as input and then the weights learnt tell at what position token 'I' should appear in any new sentence.\n",
    "\n",
    "\n",
    "The model learns that certain words tend to appear in certain positions, not because we tell it where they should appear, but because it observes this from training data using the combination of token + positional embeddings."
   ]
  },
  {
   "cell_type": "markdown",
   "id": "10c6bd54",
   "metadata": {},
   "source": [
    "#### Lets build the decoder block\n",
    "\n",
    "![](images/decoder_block.png)"
   ]
  },
  {
   "cell_type": "code",
   "execution_count": null,
   "id": "f5991755",
   "metadata": {},
   "outputs": [],
   "source": [
    "class DecoderBlock(nn.Module):\n",
    "    def __init__(self, embed_size, heads, dropout):\n",
    "        super(DecoderBlock, self).__init__()\n",
    "        self.attention = SelfAttention(embed_size, heads)\n",
    "        self.transformer_block = TransformerBlock(embed_size, heads, dropout)\n",
    "        self.norm = nn.LayerNorm(embed_size)\n",
    "        self.dropout = nn.Dropout(dropout)\n",
    "    \n",
    "    def forward(self, input, key, value, source_mask, target_mask):\n",
    "        x = self.attention(input, input, input, target_mask) \n",
    "        query = self.dropout(self.norm(x + input))\n",
    "        out = self.transformer_block(query, key, value, source_mask) # Here the query is coming from the decoder attention module\n",
    "\n",
    "        return out\n",
    "\n",
    "\n",
    "\n",
    "class Decoder(nn.Module):\n",
    "    def __init__(self, target_vocab_size, max_len, embed_size, heads,  num_layers, dropout):\n",
    "        super(Decoder, self).__init__()\n",
    "        self.embedding_layer = nn.Embedding(num_embeddings=target_vocab_size, embedding_dim= embed_size)\n",
    "        self.positional_embedding = nn.Embedding(num_embeddings= max_len, embedding_dim= embed_size)\n",
    "        self.decoder_layers = nn.ModuleList([\n",
    "            DecoderBlock(embed_size, heads, dropout) for _ in range(num_layers)\n",
    "        ])\n",
    "        self.fc = nn.Linear(embed_size, target_vocab_size)\n",
    "        self.dropout = nn.Dropout(dropout)\n",
    "\n",
    "    def forward(self, input, enc_out, source_mask, target_mask):\n",
    "        N, seq_len = input.shape\n",
    "        positions = torch.arange(0, seq_len).expand((N, seq_len))\n",
    "\n",
    "        x = self.dropout(self.embedding_layer(input) + self.positional_embedding(positions))\n",
    "\n",
    "        for decoder_layer in self.decoder_layers:\n",
    "            x = decoder_layer(x, enc_out, enc_out, source_mask, target_mask) \n",
    "\n",
    "        out = self.fc(x)  # why no softmax operation is done after Linear layer?\n",
    "\n",
    "        return out\n",
    "\n",
    "\n"
   ]
  },
  {
   "cell_type": "markdown",
   "id": "6cdf9f40",
   "metadata": {},
   "source": [
    "#### Integrate all the blocks to get the transformer \n",
    "\n",
    "![](images/transformer.png)"
   ]
  },
  {
   "cell_type": "markdown",
   "id": "f6d55434",
   "metadata": {},
   "source": [
    "#### Masking is very important in case of Self Attention in decoder. It ensures that future tokens are not seen.\n",
    "\n",
    "Decoder generates the tokens one at a timestep (autoregressive token generation).\n",
    "\n",
    "During training, the target sentence is available at all timesteps. Here masking ensures tokens of timestep > t are not seen at timestep t.\n",
    "\n",
    "During infernce, masking is not required because tokens of timestep t+1 are not poduced by the time token at timestep t is generated.\n",
    "\n",
    "Suppose our task is language translation from English to Hindi.\n",
    "\n",
    "Source sentence: I am going to school\n",
    "Target sentence: Mai school jaa raha hu.\n",
    "\n",
    "Token in target sentence: ['Mai', 'school','jaa', 'raha', 'hu']\n",
    "\n",
    "All the token in the target sentence is the input to the decoder but it will be right shifted.\n",
    "\n",
    "Decoder input: ['<BOS>', 'Mai', 'school','jaa', 'raha']\n",
    "Token indices: [0, 5, 1, 2, 3]\n",
    "\n",
    "Query, Key and Value are computed from the decoder input\n",
    "\n",
    "Attention scores are computed between Query and the Key\n"
   ]
  },
  {
   "cell_type": "markdown",
   "id": "a550aa3c",
   "metadata": {},
   "source": [
    "```python\n",
    "attn_score = torch.randn((5,5))\n",
    "\n",
    "attn_score\n",
    "\n",
    "tensor([[1., 0., 0., 0., 0.],\n",
    "        [1., 1., 0., 0., 0.],\n",
    "        [1., 1., 1., 0., 0.],\n",
    "        [1., 1., 1., 1., 0.],\n",
    "        [1., 1., 1., 1., 1.]])\n",
    "\n",
    "mask = torch.tril(torch.ones((5,5)))\n",
    "\n",
    "mask\n",
    "\n",
    "tensor([[1., 0., 0., 0., 0.],\n",
    "        [1., 1., 0., 0., 0.],\n",
    "        [1., 1., 1., 0., 0.],\n",
    "        [1., 1., 1., 1., 0.],\n",
    "        [1., 1., 1., 1., 1.]])\n",
    "\n",
    "attn_score = attn_score.masked_fill(mask == 0, -1e20)\n",
    "\n",
    "attn_weight = torch.tril(attn_score) #Here softmax is applied\n",
    "\n",
    "attn_weight \n",
    "\n",
    "tensor([[-0.3627,  0.0000,  0.0000,  0.0000,  0.0000],\n",
    "        [ 0.3311, -0.5411,  0.0000,  0.0000,  0.0000],\n",
    "        [-0.6262, -0.9632, -0.4826,  0.0000,  0.0000],\n",
    "        [ 1.2154, -0.2964,  0.2686,  0.8283,  0.0000],\n",
    "        [-0.7835,  0.8071,  0.9509,  0.3160,  0.4949]])\n",
    "```"
   ]
  },
  {
   "cell_type": "markdown",
   "id": "726545d3",
   "metadata": {},
   "source": [
    "Each row in attn_weight represents one timestep."
   ]
  },
  {
   "cell_type": "code",
   "execution_count": 6,
   "id": "9d70fe1f",
   "metadata": {},
   "outputs": [],
   "source": [
    "class Transformer(nn.Module):\n",
    "    def __init__(self, src_pad_idx, source_vocab_size, target_vocab_size, max_len, embed_size, heads, num_layers, dropout):\n",
    "        super(Transformer, self).__init__()\n",
    "        self.src_pad_idx = src_pad_idx\n",
    "\n",
    "        self.encoder = Encoder(source_vocab_size, max_len, embed_size, heads, num_layers, dropout)\n",
    "        self.decoder = Decoder(target_vocab_size, max_len, embed_size, heads,  num_layers, dropout)\n",
    "\n",
    "    def create_source_mask(self, source_input):\n",
    "        mask = (source_input != self.src_pad_idx)\n",
    "        mask = mask.unsqueeze(1).unsqueeze(2) # (num_of_sentences, num_of_attention_heads, num_of tokens_in_query, num_of_tokens_in_key)\n",
    "\n",
    "    def create_target_mask(self, target_input):\n",
    "        N, seq_len = target_input.shape\n",
    "        mask = torch.tril(torch.ones((N, 1, seq_len, seq_len))) # (num_of_sentences, num_of_attention_heads, num_of_token_in_target_sentence, num_of_token_in_target_sentence)\n",
    "        return mask\n",
    "\n",
    "    def forward(self, source_input, target_input):\n",
    "        source_mask = self.create_source_mask(source_input)\n",
    "        target_mask = self.create_target_mask(target_input)\n",
    "        enc_out = self.encoder(source_input, source_mask)\n",
    "        out = self.decoder(target_input, enc_out, source_mask, target_mask)\n",
    "    \n",
    "        return out"
   ]
  },
  {
   "cell_type": "code",
   "execution_count": 7,
   "id": "3d6b7710",
   "metadata": {},
   "outputs": [],
   "source": [
    "src_pad_idx = 0\n",
    "source_vocab_size = 8\n",
    "target_vocab_size = 8\n",
    "max_len = 10\n",
    "embed_size = 512\n",
    "heads = 8\n",
    "num_layers = 6\n",
    "dropout = 0.2\n",
    "\n",
    "source_input = torch.tensor([[1,2,3,4,5,6,7,2,0,0],\n",
    "                             [2,4,5,6,7,1,5,3,4,0]])\n",
    "\n",
    "target_input = torch.tensor([[1,2,3,4,5,6,7,1,0,0],\n",
    "                             [2,4,5,6,7,1,2,3,4,0]])\n",
    "\n",
    "model = Transformer(src_pad_idx, source_vocab_size, target_vocab_size, max_len, embed_size, heads, num_layers, dropout)\n",
    "out = model(source_input, target_input[:, :-1])"
   ]
  },
  {
   "cell_type": "markdown",
   "id": "9612b11c",
   "metadata": {},
   "source": [
    "![](images/decoder_self_attention_computation.png)"
   ]
  },
  {
   "cell_type": "code",
   "execution_count": 8,
   "id": "3cf5580c",
   "metadata": {},
   "outputs": [
    {
     "data": {
      "text/plain": [
       "torch.Size([2, 9, 8])"
      ]
     },
     "execution_count": 8,
     "metadata": {},
     "output_type": "execute_result"
    }
   ],
   "source": [
    "out.shape"
   ]
  },
  {
   "cell_type": "code",
   "execution_count": 9,
   "id": "b70f7219",
   "metadata": {},
   "outputs": [
    {
     "data": {
      "text/plain": [
       "tensor([[[-2.4522e-01,  7.5161e-01,  1.5044e-01, -4.4457e-01, -3.6331e-01,\n",
       "          -1.3185e-01, -4.4139e-01,  1.1206e+00],\n",
       "         [-2.5892e-01,  1.8479e-01, -2.6550e-01,  1.3232e-02,  1.1513e+00,\n",
       "           6.2616e-01, -4.4417e-01, -4.3183e-02],\n",
       "         [-1.2515e-01, -5.5137e-01, -2.0334e-01, -7.0015e-01,  2.9892e-01,\n",
       "          -6.1758e-01, -3.9991e-01, -4.0937e-01],\n",
       "         [-9.3089e-01,  5.5678e-02,  4.7316e-01,  2.9314e-01, -3.2622e-01,\n",
       "           2.1052e-01, -5.2436e-02,  1.0685e+00],\n",
       "         [ 4.6724e-01, -1.6304e-01, -8.9153e-01,  1.1432e-03, -2.7380e-02,\n",
       "           7.6934e-01, -2.4154e-01,  6.7970e-01],\n",
       "         [-1.0680e-01,  7.6220e-01,  2.3358e-01, -8.6498e-01,  3.1073e-01,\n",
       "          -6.9051e-01, -2.1195e-01, -4.0020e-02],\n",
       "         [ 1.1692e-01, -8.2362e-01, -5.6247e-01, -1.5735e+00, -8.2848e-01,\n",
       "          -6.7880e-02,  5.4737e-02,  3.4298e-01],\n",
       "         [-7.3295e-01,  2.4218e-01,  5.4857e-01, -5.2408e-01,  1.7051e-01,\n",
       "          -5.0285e-01,  3.9243e-02,  1.5502e-01],\n",
       "         [ 3.7826e-01,  2.6755e-02,  5.0969e-01,  9.6464e-01, -1.7561e-01,\n",
       "          -4.5683e-03,  1.6245e-02, -2.0068e-01]],\n",
       "\n",
       "        [[-4.4446e-01,  2.6719e-01, -7.4989e-02,  5.0081e-02,  4.7049e-01,\n",
       "          -1.9041e+00,  5.1257e-01,  3.2910e-01],\n",
       "         [-1.5257e-01, -4.6883e-01,  8.6818e-01,  2.2030e-02,  2.9119e-01,\n",
       "           9.4907e-01,  5.7688e-01, -1.4505e-01],\n",
       "         [-6.3640e-01, -7.2573e-01, -6.0644e-01, -2.1226e-01,  1.5071e-02,\n",
       "           4.0294e-01,  3.7317e-01, -7.1153e-01],\n",
       "         [-1.6581e-02,  1.0416e+00,  9.1748e-01,  1.4845e-01,  1.3690e+00,\n",
       "           3.0138e-01,  3.2478e-01,  2.8285e-01],\n",
       "         [ 8.3124e-01,  2.7311e-01,  1.6623e-01, -4.6480e-01,  7.8047e-02,\n",
       "          -4.7173e-01,  2.1744e-01,  1.8619e-01],\n",
       "         [-1.4566e-01,  3.1397e-01, -1.5519e-01, -1.1649e+00,  5.8320e-01,\n",
       "          -6.6345e-01, -3.9948e-02, -9.0548e-01],\n",
       "         [ 1.7868e-01,  4.2507e-01,  2.1227e-01, -2.4670e-02,  1.2108e+00,\n",
       "           1.0988e-02,  1.4864e-01,  2.1023e-01],\n",
       "         [ 4.6141e-01,  4.7899e-01,  8.3111e-01, -6.7718e-01, -1.2969e-01,\n",
       "          -6.5497e-01,  1.2411e+00, -8.8316e-01],\n",
       "         [-7.8651e-01,  4.2094e-01,  2.6151e-02, -3.9575e-03,  6.4821e-01,\n",
       "           2.4018e-01, -1.1315e-01,  1.1400e-01]]], grad_fn=<ViewBackward0>)"
      ]
     },
     "execution_count": 9,
     "metadata": {},
     "output_type": "execute_result"
    }
   ],
   "source": [
    "out"
   ]
  },
  {
   "cell_type": "markdown",
   "id": "ca2f1124",
   "metadata": {},
   "source": [
    "#### Einsum usage"
   ]
  },
  {
   "cell_type": "code",
   "execution_count": null,
   "id": "1f930db7",
   "metadata": {},
   "outputs": [
    {
     "data": {
      "text/plain": [
       "tensor([[1080, 1090, 1100, 1110],\n",
       "        [2776, 2802, 2828, 2854],\n",
       "        [4472, 4514, 4556, 4598],\n",
       "        [6168, 6226, 6284, 6342]])"
      ]
     },
     "execution_count": 37,
     "metadata": {},
     "output_type": "execute_result"
    }
   ],
   "source": [
    "A = torch.arange(1, 17)\n",
    "B = torch.arange(100,116)\n",
    "A = A.reshape((4,4))\n",
    "B = B.reshape((4,4))\n",
    "torch.einsum('ij,kj->ik', A,B)"
   ]
  },
  {
   "cell_type": "code",
   "execution_count": 42,
   "id": "13dc58b3",
   "metadata": {},
   "outputs": [
    {
     "data": {
      "text/plain": [
       "tensor([[1080, 1090, 1100, 1110],\n",
       "        [2776, 2802, 2828, 2854],\n",
       "        [4472, 4514, 4556, 4598],\n",
       "        [6168, 6226, 6284, 6342]])"
      ]
     },
     "execution_count": 42,
     "metadata": {},
     "output_type": "execute_result"
    }
   ],
   "source": [
    "torch.einsum('ij,jk', A,B)"
   ]
  },
  {
   "cell_type": "code",
   "execution_count": 47,
   "id": "b8eec254",
   "metadata": {},
   "outputs": [
    {
     "data": {
      "text/plain": [
       "tensor([[1080, 1090, 1100, 1110],\n",
       "        [2776, 2802, 2828, 2854],\n",
       "        [4472, 4514, 4556, 4598],\n",
       "        [6168, 6226, 6284, 6342]])"
      ]
     },
     "execution_count": 47,
     "metadata": {},
     "output_type": "execute_result"
    }
   ],
   "source": [
    "torch.einsum('ij,jk->ik', A,B)"
   ]
  },
  {
   "cell_type": "code",
   "execution_count": 41,
   "id": "ff8750b5",
   "metadata": {},
   "outputs": [
    {
     "data": {
      "text/plain": [
       "tensor([[1080, 1090, 1100, 1110],\n",
       "        [2776, 2802, 2828, 2854],\n",
       "        [4472, 4514, 4556, 4598],\n",
       "        [6168, 6226, 6284, 6342]])"
      ]
     },
     "execution_count": 41,
     "metadata": {},
     "output_type": "execute_result"
    }
   ],
   "source": [
    "A@B"
   ]
  },
  {
   "cell_type": "code",
   "execution_count": 44,
   "id": "7bca1d88",
   "metadata": {},
   "outputs": [
    {
     "data": {
      "text/plain": [
       "tensor([[[ 100,  202,  306,  412],\n",
       "         [ 104,  210,  318,  428],\n",
       "         [ 108,  218,  330,  444],\n",
       "         [ 112,  226,  342,  460]],\n",
       "\n",
       "        [[ 500,  606,  714,  824],\n",
       "         [ 520,  630,  742,  856],\n",
       "         [ 540,  654,  770,  888],\n",
       "         [ 560,  678,  798,  920]],\n",
       "\n",
       "        [[ 900, 1010, 1122, 1236],\n",
       "         [ 936, 1050, 1166, 1284],\n",
       "         [ 972, 1090, 1210, 1332],\n",
       "         [1008, 1130, 1254, 1380]],\n",
       "\n",
       "        [[1300, 1414, 1530, 1648],\n",
       "         [1352, 1470, 1590, 1712],\n",
       "         [1404, 1526, 1650, 1776],\n",
       "         [1456, 1582, 1710, 1840]]])"
      ]
     },
     "execution_count": 44,
     "metadata": {},
     "output_type": "execute_result"
    }
   ],
   "source": [
    "torch.einsum('ij,kj->ikj', A, B)"
   ]
  },
  {
   "cell_type": "code",
   "execution_count": 48,
   "id": "273f3527",
   "metadata": {},
   "outputs": [
    {
     "data": {
      "text/plain": [
       "tensor([[[[ 100,  101,  102,  103],\n",
       "          [ 104,  105,  106,  107],\n",
       "          [ 108,  109,  110,  111],\n",
       "          [ 112,  113,  114,  115]],\n",
       "\n",
       "         [[ 200,  202,  204,  206],\n",
       "          [ 208,  210,  212,  214],\n",
       "          [ 216,  218,  220,  222],\n",
       "          [ 224,  226,  228,  230]],\n",
       "\n",
       "         [[ 300,  303,  306,  309],\n",
       "          [ 312,  315,  318,  321],\n",
       "          [ 324,  327,  330,  333],\n",
       "          [ 336,  339,  342,  345]],\n",
       "\n",
       "         [[ 400,  404,  408,  412],\n",
       "          [ 416,  420,  424,  428],\n",
       "          [ 432,  436,  440,  444],\n",
       "          [ 448,  452,  456,  460]]],\n",
       "\n",
       "\n",
       "        [[[ 500,  505,  510,  515],\n",
       "          [ 520,  525,  530,  535],\n",
       "          [ 540,  545,  550,  555],\n",
       "          [ 560,  565,  570,  575]],\n",
       "\n",
       "         [[ 600,  606,  612,  618],\n",
       "          [ 624,  630,  636,  642],\n",
       "          [ 648,  654,  660,  666],\n",
       "          [ 672,  678,  684,  690]],\n",
       "\n",
       "         [[ 700,  707,  714,  721],\n",
       "          [ 728,  735,  742,  749],\n",
       "          [ 756,  763,  770,  777],\n",
       "          [ 784,  791,  798,  805]],\n",
       "\n",
       "         [[ 800,  808,  816,  824],\n",
       "          [ 832,  840,  848,  856],\n",
       "          [ 864,  872,  880,  888],\n",
       "          [ 896,  904,  912,  920]]],\n",
       "\n",
       "\n",
       "        [[[ 900,  909,  918,  927],\n",
       "          [ 936,  945,  954,  963],\n",
       "          [ 972,  981,  990,  999],\n",
       "          [1008, 1017, 1026, 1035]],\n",
       "\n",
       "         [[1000, 1010, 1020, 1030],\n",
       "          [1040, 1050, 1060, 1070],\n",
       "          [1080, 1090, 1100, 1110],\n",
       "          [1120, 1130, 1140, 1150]],\n",
       "\n",
       "         [[1100, 1111, 1122, 1133],\n",
       "          [1144, 1155, 1166, 1177],\n",
       "          [1188, 1199, 1210, 1221],\n",
       "          [1232, 1243, 1254, 1265]],\n",
       "\n",
       "         [[1200, 1212, 1224, 1236],\n",
       "          [1248, 1260, 1272, 1284],\n",
       "          [1296, 1308, 1320, 1332],\n",
       "          [1344, 1356, 1368, 1380]]],\n",
       "\n",
       "\n",
       "        [[[1300, 1313, 1326, 1339],\n",
       "          [1352, 1365, 1378, 1391],\n",
       "          [1404, 1417, 1430, 1443],\n",
       "          [1456, 1469, 1482, 1495]],\n",
       "\n",
       "         [[1400, 1414, 1428, 1442],\n",
       "          [1456, 1470, 1484, 1498],\n",
       "          [1512, 1526, 1540, 1554],\n",
       "          [1568, 1582, 1596, 1610]],\n",
       "\n",
       "         [[1500, 1515, 1530, 1545],\n",
       "          [1560, 1575, 1590, 1605],\n",
       "          [1620, 1635, 1650, 1665],\n",
       "          [1680, 1695, 1710, 1725]],\n",
       "\n",
       "         [[1600, 1616, 1632, 1648],\n",
       "          [1664, 1680, 1696, 1712],\n",
       "          [1728, 1744, 1760, 1776],\n",
       "          [1792, 1808, 1824, 1840]]]])"
      ]
     },
     "execution_count": 48,
     "metadata": {},
     "output_type": "execute_result"
    }
   ],
   "source": [
    "torch.einsum('ij,kl->ijkl', A, B)"
   ]
  }
 ],
 "metadata": {
  "kernelspec": {
   "display_name": "torch_env",
   "language": "python",
   "name": "python3"
  },
  "language_info": {
   "codemirror_mode": {
    "name": "ipython",
    "version": 3
   },
   "file_extension": ".py",
   "mimetype": "text/x-python",
   "name": "python",
   "nbconvert_exporter": "python",
   "pygments_lexer": "ipython3",
   "version": "3.9.19"
  }
 },
 "nbformat": 4,
 "nbformat_minor": 5
}
