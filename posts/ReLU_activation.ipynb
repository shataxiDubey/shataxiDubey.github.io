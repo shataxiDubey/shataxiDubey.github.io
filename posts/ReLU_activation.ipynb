{
  "cells": [
    {
      "cell_type": "markdown",
      "metadata": {},
      "source": [
        "---\n",
        "title: ReLU Activation Functions\n",
        "jupyter: \"ReLU\"\n",
        "description: \"Non Linearity using ReLU activation function\"\n",
        "author: \"Shataxi Dubey\"\n",
        "date: \"2025-06-26\"\n",
        "categories: [ReLU, Linearity]\n",
        "format:\n",
        "    html:\n",
        "        toc: true\n",
        "---"
      ]
    },
    {
      "cell_type": "code",
      "execution_count": null,
      "metadata": {
        "id": "x3KdzOC9yHCr"
      },
      "outputs": [],
      "source": [
        "import torch\n",
        "import torch.nn as nn"
      ]
    },
    {
      "cell_type": "code",
      "execution_count": null,
      "metadata": {
        "colab": {
          "base_uri": "https://localhost:8080/"
        },
        "id": "tpheMgV_--3j",
        "outputId": "79d16005-1e98-4416-ab51-2c3ce730e412"
      },
      "outputs": [
        {
          "name": "stdout",
          "output_type": "stream",
          "text": [
            "Weights of the linear layer Parameter containing:\n",
            "tensor([[ 0.5120, -0.4466],\n",
            "        [ 0.2942, -0.1407],\n",
            "        [ 0.2281, -0.0761],\n",
            "        [-0.5581,  0.6117]], requires_grad=True)\n",
            "Bias in the linear layer Parameter containing:\n",
            "tensor([-0.3678, -0.3932,  0.4398,  0.2615], requires_grad=True)\n",
            "dtype of weights torch.float32\n",
            "Input tensor([[1., 2.]])\n",
            "Output tensor([[-0.7489, -0.3803,  0.5158,  0.9267]], grad_fn=<AddmmBackward0>)\n",
            "Output shape torch.Size([1, 4])\n"
          ]
        }
      ],
      "source": [
        "bias = True\n",
        "linear = nn.Linear(2, 4, bias)\n",
        "print(f'Weights of the linear layer {linear.weight}')\n",
        "print(f'Bias in the linear layer {linear.bias}')\n",
        "print(f'dtype of weights {linear.weight.dtype}')\n",
        "input = torch.arange(start=1, end = 3)\n",
        "input = input.reshape(1,2)\n",
        "input = input.to(torch.float32)\n",
        "print(f'Input {input}')\n",
        "original_output = linear(input)\n",
        "print(f'Output {original_output}')\n",
        "print(f'Output shape {original_output.shape}')"
      ]
    },
    {
      "cell_type": "code",
      "execution_count": null,
      "metadata": {
        "colab": {
          "base_uri": "https://localhost:8080/"
        },
        "id": "Qq89ew15CwGP",
        "outputId": "ef9163af-a9f9-4772-e7d5-36b3283ac12e"
      },
      "outputs": [
        {
          "data": {
            "text/plain": [
              "tensor([[-0.7489, -0.3803,  0.5158,  0.9267]], grad_fn=<AddmmBackward0>)"
            ]
          },
          "execution_count": 70,
          "metadata": {},
          "output_type": "execute_result"
        }
      ],
      "source": [
        "linear(input)"
      ]
    },
    {
      "cell_type": "code",
      "execution_count": null,
      "metadata": {
        "colab": {
          "base_uri": "https://localhost:8080/"
        },
        "id": "N3FZXhNhEQr2",
        "outputId": "545f740b-70e6-4cdf-8ce1-401cbf259032"
      },
      "outputs": [
        {
          "name": "stdout",
          "output_type": "stream",
          "text": [
            "tensor(-0.7489, grad_fn=<AddBackward0>)\n"
          ]
        }
      ],
      "source": [
        "if bias:\n",
        "  output = linear.weight[0]@input[0] + linear.bias[0]\n",
        "else:\n",
        "  output = linear.weight[0]@input[0]\n",
        "print(output)"
      ]
    },
    {
      "cell_type": "markdown",
      "metadata": {
        "id": "cbH-YuJOJn0A"
      },
      "source": [
        "linear($2*input$) = $2*linear(input)$ when bias is False.\n",
        "\n",
        "linear($2*input$) != $2*linear(input)$ when bias is True. The transformation is affine in this case."
      ]
    },
    {
      "cell_type": "code",
      "execution_count": null,
      "metadata": {
        "colab": {
          "base_uri": "https://localhost:8080/"
        },
        "id": "NQ-n3H5sBexL",
        "outputId": "e28c1a80-a8f9-488f-d133-fb00bffec44d"
      },
      "outputs": [
        {
          "data": {
            "text/plain": [
              "tensor([[-1.1300, -0.3675,  0.5917,  1.5919]], grad_fn=<AddmmBackward0>)"
            ]
          },
          "execution_count": 78,
          "metadata": {},
          "output_type": "execute_result"
        }
      ],
      "source": [
        "linear(2*input)"
      ]
    },
    {
      "cell_type": "code",
      "execution_count": null,
      "metadata": {
        "colab": {
          "base_uri": "https://localhost:8080/"
        },
        "id": "g0EGeiILIMSU",
        "outputId": "cc78c37c-ceb7-48c4-f1c6-0b3a41f1215a"
      },
      "outputs": [
        {
          "data": {
            "text/plain": [
              "tensor([[-1.4978, -0.7607,  1.0316,  1.8534]], grad_fn=<MulBackward0>)"
            ]
          },
          "execution_count": 79,
          "metadata": {},
          "output_type": "execute_result"
        }
      ],
      "source": [
        "2*linear(input)"
      ]
    },
    {
      "cell_type": "code",
      "execution_count": null,
      "metadata": {
        "colab": {
          "base_uri": "https://localhost:8080/"
        },
        "id": "TXdYth72-fqe",
        "outputId": "8dbd7d25-4039-444b-abb4-632ab4fd48cf"
      },
      "outputs": [
        {
          "name": "stdout",
          "output_type": "stream",
          "text": [
            "tensor(-1.1300, grad_fn=<AddBackward0>)\n"
          ]
        }
      ],
      "source": [
        "if bias:\n",
        "  output = linear.weight[0]@(2*input[0]) + linear.bias[0]\n",
        "else:\n",
        "  output = linear.weight[0]@(2*input[0])\n",
        "print(output)"
      ]
    },
    {
      "cell_type": "code",
      "execution_count": null,
      "metadata": {
        "colab": {
          "base_uri": "https://localhost:8080/"
        },
        "id": "8xQb6jzuHr0a",
        "outputId": "f439c355-b7bd-42bb-d3f4-a72d1e285d5b"
      },
      "outputs": [
        {
          "data": {
            "text/plain": [
              "tensor([[-0.4215,  0.3874,  1.2760,  1.1945]], grad_fn=<AddmmBackward0>)"
            ]
          },
          "execution_count": 81,
          "metadata": {},
          "output_type": "execute_result"
        }
      ],
      "source": [
        "linear(input + 5)"
      ]
    },
    {
      "cell_type": "code",
      "execution_count": null,
      "metadata": {
        "colab": {
          "base_uri": "https://localhost:8080/"
        },
        "id": "PigXLxKgIU9l",
        "outputId": "2b0725a4-ffe6-4a7f-a0b7-1bfbebdfaf52"
      },
      "outputs": [
        {
          "name": "stdout",
          "output_type": "stream",
          "text": [
            "tensor([[-0.4215,  0.3620,  2.0836,  1.8237]], grad_fn=<SubBackward0>)\n"
          ]
        }
      ],
      "source": [
        "if bias:\n",
        "  output = linear(input) + linear(torch.tensor([5.0,5.0])) - linear.bias[0]\n",
        "else:\n",
        "  output = linear(input) + linear(torch.tensor([5.0,5.0]))\n",
        "print(output)"
      ]
    },
    {
      "cell_type": "code",
      "execution_count": null,
      "metadata": {
        "colab": {
          "base_uri": "https://localhost:8080/"
        },
        "id": "9GZF37_RHujA",
        "outputId": "af004ff3-4db0-49d9-9620-6770e646b9eb"
      },
      "outputs": [
        {
          "name": "stdout",
          "output_type": "stream",
          "text": [
            "tensor(-0.4215, grad_fn=<AddBackward0>)\n"
          ]
        }
      ],
      "source": [
        "if bias:\n",
        "  output = linear.weight[0]@(input[0] + 5)+ linear.bias[0]\n",
        "else:\n",
        "  output = linear.weight[0]@(input[0] + 5)\n",
        "print(output)"
      ]
    },
    {
      "cell_type": "markdown",
      "metadata": {
        "id": "UZ9mrtjUJTGT"
      },
      "source": [
        "Lets see the non linearity added by ReLU activation function"
      ]
    },
    {
      "cell_type": "code",
      "execution_count": null,
      "metadata": {
        "colab": {
          "base_uri": "https://localhost:8080/"
        },
        "id": "AIrJMOOHBAzp",
        "outputId": "c01a1263-4e2f-4bf4-cfe1-0248ea45f0ec"
      },
      "outputs": [
        {
          "data": {
            "text/plain": [
              "tensor([-0.7489, -0.3803,  0.5158,  0.9267], grad_fn=<SqueezeBackward1>)"
            ]
          },
          "execution_count": 85,
          "metadata": {},
          "output_type": "execute_result"
        }
      ],
      "source": [
        "output = original_output.squeeze(dim = 0)\n",
        "output"
      ]
    },
    {
      "cell_type": "code",
      "execution_count": null,
      "metadata": {
        "colab": {
          "base_uri": "https://localhost:8080/"
        },
        "id": "DcFBQ-2l_-Ed",
        "outputId": "509cceaf-928a-4725-b238-7b8b2bf460a6"
      },
      "outputs": [
        {
          "data": {
            "text/plain": [
              "tensor([0.0000, 0.0000, 0.5158, 0.9267], grad_fn=<ReluBackward0>)"
            ]
          },
          "execution_count": 86,
          "metadata": {},
          "output_type": "execute_result"
        }
      ],
      "source": [
        "relu = nn.ReLU()\n",
        "relu(output)"
      ]
    },
    {
      "cell_type": "markdown",
      "metadata": {
        "id": "Dsopzo6mMcrH"
      },
      "source": [
        "ReLU is not a linear function by the definition of Linear functions"
      ]
    },
    {
      "cell_type": "markdown",
      "metadata": {
        "id": "P1v60oJ2MkSl"
      },
      "source": [
        "a) $ReLU(2*a) = 2*ReLU(a)$"
      ]
    },
    {
      "cell_type": "code",
      "execution_count": null,
      "metadata": {
        "colab": {
          "base_uri": "https://localhost:8080/"
        },
        "id": "9wpYh3TKCV_J",
        "outputId": "6367b68f-b117-4ee8-caac-21e3c4b73819"
      },
      "outputs": [
        {
          "data": {
            "text/plain": [
              "tensor([1.4978, 0.7607, 0.0000, 0.0000], grad_fn=<ReluBackward0>)"
            ]
          },
          "execution_count": 89,
          "metadata": {},
          "output_type": "execute_result"
        }
      ],
      "source": [
        "relu(-2*output)"
      ]
    },
    {
      "cell_type": "code",
      "execution_count": null,
      "metadata": {
        "colab": {
          "base_uri": "https://localhost:8080/"
        },
        "id": "Mns-PqNbLnn9",
        "outputId": "ec3a0a66-38fd-4235-dc72-65410906ecc7"
      },
      "outputs": [
        {
          "data": {
            "text/plain": [
              "tensor([-0.0000, -0.0000, -1.0316, -1.8534], grad_fn=<MulBackward0>)"
            ]
          },
          "execution_count": 90,
          "metadata": {},
          "output_type": "execute_result"
        }
      ],
      "source": [
        "-2*relu(output)"
      ]
    },
    {
      "cell_type": "markdown",
      "metadata": {
        "id": "Pf_W6-qgMseh"
      },
      "source": [
        "b) $ReLU(a + b)$  $!=$ $ReLU(a) + ReLU(b)$"
      ]
    },
    {
      "cell_type": "code",
      "execution_count": null,
      "metadata": {
        "colab": {
          "base_uri": "https://localhost:8080/"
        },
        "id": "U5-LknhwLzC-",
        "outputId": "b3551480-4c47-4a89-e348-9e6ca1081627"
      },
      "outputs": [
        {
          "data": {
            "text/plain": [
              "tensor([0.0000, 0.0000, 0.0000, 0.1778], grad_fn=<ReluBackward0>)"
            ]
          },
          "execution_count": 93,
          "metadata": {},
          "output_type": "execute_result"
        }
      ],
      "source": [
        "relu(output + output.min())"
      ]
    },
    {
      "cell_type": "code",
      "execution_count": null,
      "metadata": {
        "colab": {
          "base_uri": "https://localhost:8080/"
        },
        "id": "biLEogOBMMa8",
        "outputId": "3265a3f4-43d0-456a-9054-b78781ddf111"
      },
      "outputs": [
        {
          "data": {
            "text/plain": [
              "tensor([0.0000, 0.0000, 0.5158, 0.9267], grad_fn=<AddBackward0>)"
            ]
          },
          "execution_count": 94,
          "metadata": {},
          "output_type": "execute_result"
        }
      ],
      "source": [
        "relu(output) + relu(output.min())"
      ]
    },
    {
      "cell_type": "markdown",
      "metadata": {
        "id": "PpFiiMuNRRid"
      },
      "source": [
        "Lets see what happens through multiple linear layers"
      ]
    },
    {
      "cell_type": "code",
      "execution_count": null,
      "metadata": {
        "colab": {
          "base_uri": "https://localhost:8080/"
        },
        "id": "W14OY7C3NMl0",
        "outputId": "ade8cb90-6bc3-4c0c-884c-0d3f4d4f3b3e"
      },
      "outputs": [],
      "source": [
        "from tqdm import tqdm\n",
        "train_data = torch.tensor(torch.arange(1,100))\n",
        "train_data = train_data.to(torch.float32)\n",
        "train_data = train_data.reshape(99,1)\n",
        "train_out = train_data**2\n",
        "print(train_data.size())\n",
        "print(train_out.size())\n",
        "linear = nn.Linear(1,4)\n",
        "hidden_linear = nn.Linear(4,4)\n",
        "out_linear = nn.Linear(4,1)\n",
        "model = nn.Sequential(\n",
        "    nn.Linear(1,8),\n",
        "    nn.Linear(8,8),\n",
        "    nn.Linear(8,1),\n",
        ")\n",
        "\n",
        "epochs = 100000\n",
        "loss_fn = nn.MSELoss()\n",
        "optimizer = torch.optim.Adam(model.parameters(), lr=0.1)\n",
        "\n",
        "for epoch in tqdm(range(epochs)):\n",
        "  optimizer.zero_grad()\n",
        "  pred = model(train_data)\n",
        "  loss = loss_fn(pred, train_out)\n",
        "  loss.backward()\n",
        "  optimizer.step()\n",
        "  print(f'Epoch {epoch} loss {loss}')\n"
      ]
    },
    {
      "cell_type": "markdown",
      "metadata": {},
      "source": [
        "Without ReLU activation function, there is no non-linearity in the network due to which the squared function is not followed by the neural network."
      ]
    },
    {
      "cell_type": "code",
      "execution_count": null,
      "metadata": {
        "colab": {
          "base_uri": "https://localhost:8080/",
          "height": 641
        },
        "id": "dQXPoGt9U85_",
        "outputId": "01406f4c-9261-4932-d371-b597f4cb8a60"
      },
      "outputs": [
        {
          "name": "stdout",
          "output_type": "stream",
          "text": [
            "tensor([  1,   2,   3,   4,   5,   6,   7,   8,   9,  10,  11,  12,  13,  14,\n",
            "         15,  16,  17,  18,  19,  20,  21,  22,  23,  24,  25,  26,  27,  28,\n",
            "         29,  30,  31,  32,  33,  34,  35,  36,  37,  38,  39,  40,  41,  42,\n",
            "         43,  44,  45,  46,  47,  48,  49,  50,  51,  52,  53,  54,  55,  56,\n",
            "         57,  58,  59,  60,  61,  62,  63,  64,  65,  66,  67,  68,  69,  70,\n",
            "         71,  72,  73,  74,  75,  76,  77,  78,  79,  80,  81,  82,  83,  84,\n",
            "         85,  86,  87,  88,  89,  90,  91,  92,  93,  94,  95,  96,  97,  98,\n",
            "         99, 100])\n"
          ]
        },
        {
          "name": "stderr",
          "output_type": "stream",
          "text": [
            "/tmp/ipython-input-87-1621197856.py:3: UserWarning: To copy construct from a tensor, it is recommended to use sourceTensor.clone().detach() or sourceTensor.clone().detach().requires_grad_(True), rather than torch.tensor(sourceTensor).\n",
            "  input = torch.tensor(torch.arange(1,101))\n"
          ]
        },
        {
          "data": {
            "text/plain": [
              "<matplotlib.legend.Legend at 0x7b24d81cb810>"
            ]
          },
          "execution_count": 87,
          "metadata": {},
          "output_type": "execute_result"
        },
        {
          "data": {
            "image/png": "[encoded data removed]",
            "text/plain": [
              "<Figure size 640x480 with 1 Axes>"
            ]
          },
          "metadata": {},
          "output_type": "display_data"
        }
      ],
      "source": [
        "import matplotlib.pyplot as plt\n",
        "fig, ax = plt.subplots()\n",
        "input = torch.tensor(torch.arange(1,101))\n",
        "print(input)\n",
        "input = input.to(torch.float32)\n",
        "input = input.reshape(100,1)\n",
        "out = model(input)\n",
        "ax.plot(input, out.detach(), color = 'orange', linewidth = 4, label = 'predicted')\n",
        "ax.plot(input, input**2, color = 'green', label = 'ground truth')\n",
        "plt.legend()"
      ]
    },
    {
      "cell_type": "code",
      "execution_count": null,
      "metadata": {
        "colab": {
          "base_uri": "https://localhost:8080/"
        },
        "id": "NgELAfMNVdV7",
        "outputId": "62c5d1ca-7344-475b-bb79-96ceb1c87b6d"
      },
      "outputs": [],
      "source": [
        "from tqdm import tqdm\n",
        "torch.random.manual_seed(42)\n",
        "input = torch.tensor(torch.arange(1,100))\n",
        "input = input.to(torch.float32)\n",
        "train_data = input.reshape(99,1)\n",
        "train_out = train_data**2\n",
        "\n",
        "relu = nn.ReLU()\n",
        "model = nn.Sequential(\n",
        "    nn.Linear(1,8),\n",
        "    relu,\n",
        "    nn.Linear(8,8),\n",
        "    relu,\n",
        "    nn.Linear(8,1),\n",
        "\n",
        ")\n",
        "\n",
        "epochs = 100000\n",
        "loss_fn = nn.MSELoss()\n",
        "optimizer = torch.optim.Adam(model.parameters(), lr=0.1)\n",
        "for epoch in range(epochs):\n",
        "  optimizer.zero_grad()\n",
        "  pred = model(train_data)\n",
        "  loss = loss_fn(pred, train_out)\n",
        "  loss.backward()\n",
        "  optimizer.step()\n",
        "  print(f'Epoch {epoch} loss {loss}')\n"
      ]
    },
    {
      "cell_type": "code",
      "execution_count": null,
      "metadata": {
        "colab": {
          "base_uri": "https://localhost:8080/",
          "height": 641
        },
        "id": "nRDf49oGXOKH",
        "outputId": "8d37f850-9667-4e47-b223-d7150fd199e5"
      },
      "outputs": [
        {
          "name": "stdout",
          "output_type": "stream",
          "text": [
            "tensor([100, 101, 102, 103, 104, 105, 106, 107, 108, 109, 110, 111, 112, 113,\n",
            "        114, 115, 116, 117, 118, 119, 120, 121, 122, 123, 124, 125, 126, 127,\n",
            "        128, 129, 130, 131, 132, 133, 134, 135, 136, 137, 138, 139, 140, 141,\n",
            "        142, 143, 144, 145, 146, 147, 148, 149, 150, 151, 152, 153, 154, 155,\n",
            "        156, 157, 158, 159, 160, 161, 162, 163, 164, 165, 166, 167, 168, 169,\n",
            "        170, 171, 172, 173, 174, 175, 176, 177, 178, 179, 180, 181, 182, 183,\n",
            "        184, 185, 186, 187, 188, 189, 190, 191, 192, 193, 194, 195, 196, 197,\n",
            "        198, 199])\n"
          ]
        },
        {
          "name": "stderr",
          "output_type": "stream",
          "text": [
            "/tmp/ipython-input-89-1213791851.py:3: UserWarning: To copy construct from a tensor, it is recommended to use sourceTensor.clone().detach() or sourceTensor.clone().detach().requires_grad_(True), rather than torch.tensor(sourceTensor).\n",
            "  input = torch.tensor(torch.arange(100,200))\n"
          ]
        },
        {
          "data": {
            "text/plain": [
              "<matplotlib.legend.Legend at 0x7b24ca03e5d0>"
            ]
          },
          "execution_count": 89,
          "metadata": {},
          "output_type": "execute_result"
        },
        {
          "data": {
            "image/png": "[encoded data removed]",
            "text/plain": [
              "<Figure size 640x480 with 1 Axes>"
            ]
          },
          "metadata": {},
          "output_type": "display_data"
        }
      ],
      "source": [
        "import matplotlib.pyplot as plt\n",
        "fig, ax = plt.subplots()\n",
        "input = torch.tensor(torch.arange(100,200))\n",
        "print(input)\n",
        "input = input.to(torch.float32)\n",
        "input = input.reshape(100,1)\n",
        "out = model(input)\n",
        "ax.plot(input, out.detach(), color = 'orange', linewidth = 4, label = 'predicted')\n",
        "ax.plot(input, input**2, color = 'green', label = 'ground truth')\n",
        "plt.legend()"
      ]
    },
    {
      "cell_type": "code",
      "execution_count": null,
      "metadata": {
        "colab": {
          "base_uri": "https://localhost:8080/",
          "height": 646
        },
        "id": "YzjlalYqjnWT",
        "outputId": "0c2c7541-d694-4097-d79d-464639b6eb41"
      },
      "outputs": [
        {
          "name": "stdout",
          "output_type": "stream",
          "text": [
            "tensor([  1,   2,   3,   4,   5,   6,   7,   8,   9,  10,  11,  12,  13,  14,\n",
            "         15,  16,  17,  18,  19,  20,  21,  22,  23,  24,  25,  26,  27,  28,\n",
            "         29,  30,  31,  32,  33,  34,  35,  36,  37,  38,  39,  40,  41,  42,\n",
            "         43,  44,  45,  46,  47,  48,  49,  50,  51,  52,  53,  54,  55,  56,\n",
            "         57,  58,  59,  60,  61,  62,  63,  64,  65,  66,  67,  68,  69,  70,\n",
            "         71,  72,  73,  74,  75,  76,  77,  78,  79,  80,  81,  82,  83,  84,\n",
            "         85,  86,  87,  88,  89,  90,  91,  92,  93,  94,  95,  96,  97,  98,\n",
            "         99, 100])\n"
          ]
        },
        {
          "name": "stderr",
          "output_type": "stream",
          "text": [
            "/tmp/ipython-input-93-179746123.py:3: UserWarning: To copy construct from a tensor, it is recommended to use sourceTensor.clone().detach() or sourceTensor.clone().detach().requires_grad_(True), rather than torch.tensor(sourceTensor).\n",
            "  input = torch.tensor(torch.arange(1,101))\n"
          ]
        },
        {
          "data": {
            "text/plain": [
              "<matplotlib.legend.Legend at 0x7b24c9f31c90>"
            ]
          },
          "execution_count": 93,
          "metadata": {},
          "output_type": "execute_result"
        },
        {
          "data": {
            "image/png": "[encoded data removed]",
            "text/plain": [
              "<Figure size 640x480 with 1 Axes>"
            ]
          },
          "metadata": {},
          "output_type": "display_data"
        }
      ],
      "source": [
        "import matplotlib.pyplot as plt\n",
        "fig, ax = plt.subplots()\n",
        "input = torch.tensor(torch.arange(1,101))\n",
        "print(input)\n",
        "input = input.to(torch.float32)\n",
        "input = input.reshape(100,1)\n",
        "out = model(input)\n",
        "ax.plot(input, out.detach(), color = 'orange', linewidth = 4, label = 'predicted')\n",
        "ax.plot(input, input**2, color = 'green', label = 'ground truth')\n",
        "ax.set_xlim(1,10)\n",
        "ax.set_ylim(0,100)\n",
        "plt.legend()"
      ]
    },
    {
      "cell_type": "markdown",
      "metadata": {
        "id": "gGABvhSgiNId"
      },
      "source": [
        "This shows that using a series of ReLU activation functions introduces non-linearity into the neural network. A neural network without any activation functions produces only linear outputs, even on the training data. However, when ReLU is added, the network is able to learn the square function on the training data, and the learned function also approximates the actual function more closely on the test data."
      ]
    }
  ],
  "metadata": {
    "colab": {
      "provenance": []
    },
    "kernelspec": {
      "display_name": "Python 3",
      "name": "python3"
    },
    "language_info": {
      "name": "python"
    }
  },
  "nbformat": 4,
  "nbformat_minor": 0
}
